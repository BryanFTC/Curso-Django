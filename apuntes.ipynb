{
 "cells": [
  {
   "attachments": {},
   "cell_type": "markdown",
   "metadata": {},
   "source": [
    "MODELOS\n",
    "- Los modelos son los tipos de datos a utilizar y los modelamos en nuestras aplicaciones usando el archivo models.py.\n",
    "- Cada clase va ser un modelo y va tener los diferentes atributos necesarios, nuestro ORM traducira estas clases a base de datos y cada uno de los atributos a campos para dichas tablas."
   ]
  },
  {
   "attachments": {},
   "cell_type": "markdown",
   "metadata": {},
   "source": [
    "- La convencion en nombres de clases es en sigular y con la primera letra en mayuscula"
   ]
  },
  {
   "attachments": {},
   "cell_type": "markdown",
   "metadata": {},
   "source": [
    "Operadores \n",
    "- __lte: menor o igual\n",
    "- __gte: mayor o igual\n",
    "- __lt: menor que\n",
    "- __gt: mayor que\n",
    "- __contains: contiene\n",
    "- __exact: exacto"
   ]
  },
  {
   "attachments": {},
   "cell_type": "markdown",
   "metadata": {},
   "source": [
    "En Django el codigo es agnostico, podriamos tener otro motor de datos configurado pero nuestro codigo siempre sera el mismo.\n",
    "\n",
    "Gracias al ORM nosotros podemos mantenernos agnosticos al motor de base de datos y trabajar con los modelos , objetos y clases para despues utilizar el motor de DB que mas nos convenga."
   ]
  },
  {
   "attachments": {},
   "cell_type": "markdown",
   "metadata": {},
   "source": [
    "REALIZAR EL MODELO DE DATOS\n",
    "- Planificar antes de codificar\n",
    "\n"
   ]
  }
 ],
 "metadata": {
  "kernelspec": {
   "display_name": "Python 3",
   "language": "python",
   "name": "python3"
  },
  "language_info": {
   "name": "python",
   "version": "3.11.0 (main, Oct 24 2022, 18:26:48) [MSC v.1933 64 bit (AMD64)]"
  },
  "orig_nbformat": 4,
  "vscode": {
   "interpreter": {
    "hash": "9adc08c4c44d14e62d286c3a02ffa018f57bdb6798e351c4e38c49c69432e58f"
   }
  }
 },
 "nbformat": 4,
 "nbformat_minor": 2
}
